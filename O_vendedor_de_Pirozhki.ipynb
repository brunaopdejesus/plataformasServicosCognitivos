{
  "nbformat": 4,
  "nbformat_minor": 0,
  "metadata": {
    "colab": {
      "provenance": [],
      "include_colab_link": true
    },
    "kernelspec": {
      "name": "python3",
      "display_name": "Python 3"
    },
    "language_info": {
      "name": "python"
    }
  },
  "cells": [
    {
      "cell_type": "markdown",
      "metadata": {
        "id": "view-in-github",
        "colab_type": "text"
      },
      "source": [
        "<a href=\"https://colab.research.google.com/github/brunaopdejesus/plataformasServicosCognitivos/blob/main/O_vendedor_de_Pirozhki.ipynb\" target=\"_parent\"><img src=\"https://colab.research.google.com/assets/colab-badge.svg\" alt=\"Open In Colab\"/></a>"
      ]
    },
    {
      "cell_type": "markdown",
      "source": [
        "# CASE: O vendedor de Pirozhki\n",
        "\n",
        "\n",
        "Vladimir Sidorov desistiu de seu trabalho convencional na KGB e decidiu empreender em 2010 no ramo alimentício. Com suas economias abriu um foodtruck no bairro do Ipiranga – SP especializado na venda de Pirozhki, onde seu grande diferencial era trabalhar com ingredientes importados dando uma qualidade extraordinária ao produto. Após o crescimento das vendas, a modalidade delivery foi implementada para auxiliar a empresa. Vladimir era extremamente popular no bairro, todos o conheciam, mas em 2019 se mudou para um ponto melhor e não tivemos mais notícia. Os últimos dados compartilhados das vendas de Vlad foram disponibilizados antes de sua partida.\n"
      ],
      "metadata": {
        "id": "HXZSC_Ob3Zrd"
      }
    },
    {
      "cell_type": "code",
      "source": [
        "Ano\tvendas\n",
        "2010\t723\n",
        "2011\t814\n",
        "2012\t905\n",
        "2014\t1087\n",
        "2017\t1360\n",
        "2018\t1451\n",
        "2019\t1542\n"
      ],
      "metadata": {
        "id": "H6qSt8nv3de1"
      },
      "execution_count": null,
      "outputs": []
    },
    {
      "cell_type": "markdown",
      "source": [
        "\n",
        "\n",
        "1.   Dado o problema acima, qual o melhor algoritmo para descobrir os dados de 2015?\n",
        "2.   Qual coeficiente angular?\n",
        "3.   Considerando uma perspectiva estatística, qual o total de venda em 2020 (Apresentar valores)?\n",
        "4. Considerando uma perspectiva estatística, qual o total de venda em 2021 (Apresentar valores)?\n",
        "5. Desenvolva um código em python que calcule estatisticamente as vendas em qualquer ano desejado\n",
        "6. Considerando sua opinião, qual o total de venda em 2021?\n",
        "7. Considerando sua opinião, qual o total de venda em 2023?\n",
        "\n"
      ],
      "metadata": {
        "id": "jmbpy-k73f90"
      }
    },
    {
      "cell_type": "markdown",
      "source": [
        "#1. Dado o problema acima, qual o melhor algoritmo para descobrir os dados de 2015?\n",
        "\n",
        "Escolhemos a regressão linear para este problema porque percebemos que as vendas têm uma relação linear com o tempo (anos), e a regressão linear nos permitiu encontrar uma reta que se ajusta bem aos dados de vendas ao longo dos anos. É um modelo simples que atendeu muito bem às nossas necessidades."
      ],
      "metadata": {
        "id": "pbvTTLCjFH_G"
      }
    },
    {
      "cell_type": "markdown",
      "source": [
        "# 2. Qual coeficiente angular?"
      ],
      "metadata": {
        "id": "9wQsVouZH8tE"
      }
    },
    {
      "cell_type": "code",
      "source": [
        "import numpy as np\n",
        "from sklearn.linear_model import LinearRegression"
      ],
      "metadata": {
        "id": "Wa9_26yzPCwf"
      },
      "execution_count": null,
      "outputs": []
    },
    {
      "cell_type": "code",
      "source": [
        "# Introduzindo os dados que serão base do modelo. Esses dados estão sendo armazenados em 2 arrays: Anos e Vendas.\n",
        "anos = np.array([2010, 2011, 2012, 2014, 2017, 2018, 2019])\n",
        "vendas = np.array([723, 814, 905, 1087, 1360, 1451, 1542])\n",
        "\n",
        "# Criando o modelo de regressão linear\n",
        "modelo = LinearRegression()\n",
        "\n",
        "# Ajusta o modelo aos dados\n",
        "modelo.fit(anos.reshape(-1, 1), vendas)\n",
        "\n",
        "# Coeficiente angular\n",
        "coef_angular = modelo.coef_[0]\n",
        "\n",
        "print(\"Coeficiente Angular (Inclinação):\", coef_angular)"
      ],
      "metadata": {
        "colab": {
          "base_uri": "https://localhost:8080/"
        },
        "id": "o7lHTo8pH-uK",
        "outputId": "69a59bc2-b691-4178-89d2-c1c7984d0d43"
      },
      "execution_count": null,
      "outputs": [
        {
          "output_type": "stream",
          "name": "stdout",
          "text": [
            "Coeficiente Angular (Inclinação): 91.0\n"
          ]
        }
      ]
    },
    {
      "cell_type": "markdown",
      "source": [
        "# 3. Considerando uma perspectiva estatística, qual o total de venda em 2020 (Apresentar valores)?\n",
        "# 4. Considerando uma perspectiva estatística, qual o total de venda em 2021 (Apresentar valores)?"
      ],
      "metadata": {
        "id": "TfVNlv9jFCa1"
      }
    },
    {
      "cell_type": "code",
      "source": [
        "# Introduzindo os dados que serão base do modelo. Esses dados estão sendo armazenados em 2 arrays: Anos e Vendas.\n",
        "anos = np.array([2010, 2011, 2012, 2014, 2017, 2018, 2019])\n",
        "vendas = np.array([723, 814, 905, 1087, 1360, 1451, 1542])\n",
        "\n",
        "# Criando o modelo de regressão linear\n",
        "modelo = LinearRegression()\n",
        "\n",
        "# Ajusta o modelo aos dados\n",
        "modelo.fit(anos.reshape(-1, 1), vendas)\n",
        "\n",
        "# Previsão de vendas em 2020\n",
        "vendas_2020 = modelo.predict([[2020]])\n",
        "print(\"Previsão de Vendas em 2020:\", vendas_2020[0])\n",
        "\n",
        "# Previsão de vendas em 2021\n",
        "vendas_2021 = modelo.predict([[2021]])\n",
        "print(\"Previsão de Vendas em 2021:\", vendas_2021[0])"
      ],
      "metadata": {
        "colab": {
          "base_uri": "https://localhost:8080/"
        },
        "id": "A_CNNGBkIxmf",
        "outputId": "1b6a2dda-a7cc-44c0-fe97-10bc8a47b3cc"
      },
      "execution_count": null,
      "outputs": [
        {
          "output_type": "stream",
          "name": "stdout",
          "text": [
            "Previsão de Vendas em 2020: 1633.0\n",
            "Previsão de Vendas em 2021: 1724.0\n"
          ]
        }
      ]
    },
    {
      "cell_type": "markdown",
      "source": [
        "# 5. Desenvolva um código em python que calcule estatisticamente as vendas em qualquer ano desejado"
      ],
      "metadata": {
        "id": "r9AWgu5jPdKm"
      }
    },
    {
      "cell_type": "code",
      "source": [
        "# Introduzindo os dados que serão base do modelo. Esses dados estão sendo armazenados em 2 arrays: Anos e Vendas.\n",
        "anos = np.array([2010, 2011, 2012, 2014, 2017, 2018, 2019])\n",
        "vendas = np.array([723, 814, 905, 1087, 1360, 1451, 1542])\n",
        "\n",
        "# Criando o modelo de regressão linear\n",
        "modelo = LinearRegression()\n",
        "\n",
        "# Ajusta o modelo aos dados\n",
        "modelo.fit(anos.reshape(-1, 1), vendas)"
      ],
      "metadata": {
        "colab": {
          "base_uri": "https://localhost:8080/",
          "height": 75
        },
        "id": "X6QnUPrLPfMr",
        "outputId": "60e4384d-f9b1-4448-d661-e0794124b2cb"
      },
      "execution_count": null,
      "outputs": [
        {
          "output_type": "execute_result",
          "data": {
            "text/plain": [
              "LinearRegression()"
            ],
            "text/html": [
              "<style>#sk-container-id-1 {color: black;background-color: white;}#sk-container-id-1 pre{padding: 0;}#sk-container-id-1 div.sk-toggleable {background-color: white;}#sk-container-id-1 label.sk-toggleable__label {cursor: pointer;display: block;width: 100%;margin-bottom: 0;padding: 0.3em;box-sizing: border-box;text-align: center;}#sk-container-id-1 label.sk-toggleable__label-arrow:before {content: \"▸\";float: left;margin-right: 0.25em;color: #696969;}#sk-container-id-1 label.sk-toggleable__label-arrow:hover:before {color: black;}#sk-container-id-1 div.sk-estimator:hover label.sk-toggleable__label-arrow:before {color: black;}#sk-container-id-1 div.sk-toggleable__content {max-height: 0;max-width: 0;overflow: hidden;text-align: left;background-color: #f0f8ff;}#sk-container-id-1 div.sk-toggleable__content pre {margin: 0.2em;color: black;border-radius: 0.25em;background-color: #f0f8ff;}#sk-container-id-1 input.sk-toggleable__control:checked~div.sk-toggleable__content {max-height: 200px;max-width: 100%;overflow: auto;}#sk-container-id-1 input.sk-toggleable__control:checked~label.sk-toggleable__label-arrow:before {content: \"▾\";}#sk-container-id-1 div.sk-estimator input.sk-toggleable__control:checked~label.sk-toggleable__label {background-color: #d4ebff;}#sk-container-id-1 div.sk-label input.sk-toggleable__control:checked~label.sk-toggleable__label {background-color: #d4ebff;}#sk-container-id-1 input.sk-hidden--visually {border: 0;clip: rect(1px 1px 1px 1px);clip: rect(1px, 1px, 1px, 1px);height: 1px;margin: -1px;overflow: hidden;padding: 0;position: absolute;width: 1px;}#sk-container-id-1 div.sk-estimator {font-family: monospace;background-color: #f0f8ff;border: 1px dotted black;border-radius: 0.25em;box-sizing: border-box;margin-bottom: 0.5em;}#sk-container-id-1 div.sk-estimator:hover {background-color: #d4ebff;}#sk-container-id-1 div.sk-parallel-item::after {content: \"\";width: 100%;border-bottom: 1px solid gray;flex-grow: 1;}#sk-container-id-1 div.sk-label:hover label.sk-toggleable__label {background-color: #d4ebff;}#sk-container-id-1 div.sk-serial::before {content: \"\";position: absolute;border-left: 1px solid gray;box-sizing: border-box;top: 0;bottom: 0;left: 50%;z-index: 0;}#sk-container-id-1 div.sk-serial {display: flex;flex-direction: column;align-items: center;background-color: white;padding-right: 0.2em;padding-left: 0.2em;position: relative;}#sk-container-id-1 div.sk-item {position: relative;z-index: 1;}#sk-container-id-1 div.sk-parallel {display: flex;align-items: stretch;justify-content: center;background-color: white;position: relative;}#sk-container-id-1 div.sk-item::before, #sk-container-id-1 div.sk-parallel-item::before {content: \"\";position: absolute;border-left: 1px solid gray;box-sizing: border-box;top: 0;bottom: 0;left: 50%;z-index: -1;}#sk-container-id-1 div.sk-parallel-item {display: flex;flex-direction: column;z-index: 1;position: relative;background-color: white;}#sk-container-id-1 div.sk-parallel-item:first-child::after {align-self: flex-end;width: 50%;}#sk-container-id-1 div.sk-parallel-item:last-child::after {align-self: flex-start;width: 50%;}#sk-container-id-1 div.sk-parallel-item:only-child::after {width: 0;}#sk-container-id-1 div.sk-dashed-wrapped {border: 1px dashed gray;margin: 0 0.4em 0.5em 0.4em;box-sizing: border-box;padding-bottom: 0.4em;background-color: white;}#sk-container-id-1 div.sk-label label {font-family: monospace;font-weight: bold;display: inline-block;line-height: 1.2em;}#sk-container-id-1 div.sk-label-container {text-align: center;}#sk-container-id-1 div.sk-container {/* jupyter's `normalize.less` sets `[hidden] { display: none; }` but bootstrap.min.css set `[hidden] { display: none !important; }` so we also need the `!important` here to be able to override the default hidden behavior on the sphinx rendered scikit-learn.org. See: https://github.com/scikit-learn/scikit-learn/issues/21755 */display: inline-block !important;position: relative;}#sk-container-id-1 div.sk-text-repr-fallback {display: none;}</style><div id=\"sk-container-id-1\" class=\"sk-top-container\"><div class=\"sk-text-repr-fallback\"><pre>LinearRegression()</pre><b>In a Jupyter environment, please rerun this cell to show the HTML representation or trust the notebook. <br />On GitHub, the HTML representation is unable to render, please try loading this page with nbviewer.org.</b></div><div class=\"sk-container\" hidden><div class=\"sk-item\"><div class=\"sk-estimator sk-toggleable\"><input class=\"sk-toggleable__control sk-hidden--visually\" id=\"sk-estimator-id-1\" type=\"checkbox\" checked><label for=\"sk-estimator-id-1\" class=\"sk-toggleable__label sk-toggleable__label-arrow\">LinearRegression</label><div class=\"sk-toggleable__content\"><pre>LinearRegression()</pre></div></div></div></div></div>"
            ]
          },
          "metadata": {},
          "execution_count": 20
        }
      ]
    },
    {
      "cell_type": "code",
      "source": [
        "#USAMOS 2030 COMO EXEMPLO, MAS É POSSIVEL INSERIR QUALQUER OUTRO ANO\n",
        "\n",
        "vendas_2030 = modelo.predict([[2030]])\n",
        "print(\"Previsão de Vendas em 2030:\", vendas_2030[0])"
      ],
      "metadata": {
        "colab": {
          "base_uri": "https://localhost:8080/"
        },
        "id": "mRUA5KI2Pz4u",
        "outputId": "c6b8fdff-7823-40cc-d546-f0bf59c419be"
      },
      "execution_count": null,
      "outputs": [
        {
          "output_type": "stream",
          "name": "stdout",
          "text": [
            "Previsão de Vendas em 2030: 2543.0\n"
          ]
        }
      ]
    },
    {
      "cell_type": "markdown",
      "source": [
        "# 6. Considerando sua opinião, qual o total de venda em 2021?\n",
        "Com base nos dados fornecidos, observamos que o aumento das vendas de Vlad fica em torno de 100 unidades a mais do que no ano anterior. Com isso, concluímos que ele deve ter vendido aproximadamente 200 produtos a mais do que em 2019, ou seja, algo em torno de 1742 pirozhkis.\n",
        "# 7. Considerando sua opinião, qual o total de venda em 2023?\n",
        "Seguindo a mesma lógica anterior, Vlad teria vendido algo aproximado de 1942 unidades.\n",
        "\n",
        "\n",
        "\n",
        "\n"
      ],
      "metadata": {
        "id": "IMYnXtcOQxBS"
      }
    },
    {
      "cell_type": "markdown",
      "source": [
        "*   Nome:  Ana Cristina Araújo Oliveira\n",
        "*   RM: 99816\n",
        "*   Nome:  Bruna Oliveira Pedroso de Jesus\n",
        "*   RM: 99518\n",
        "\n",
        "\n"
      ],
      "metadata": {
        "id": "Wi9_DVhq34pT"
      }
    }
  ]
}