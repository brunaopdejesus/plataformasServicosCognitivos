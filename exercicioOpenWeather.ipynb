{
  "nbformat": 4,
  "nbformat_minor": 0,
  "metadata": {
    "colab": {
      "provenance": [],
      "authorship_tag": "ABX9TyMpuWnYoPuxKcQPmPllCaGg",
      "include_colab_link": true
    },
    "kernelspec": {
      "name": "python3",
      "display_name": "Python 3"
    },
    "language_info": {
      "name": "python"
    }
  },
  "cells": [
    {
      "cell_type": "markdown",
      "metadata": {
        "id": "view-in-github",
        "colab_type": "text"
      },
      "source": [
        "<a href=\"https://colab.research.google.com/github/brunaopdejesus/plataformasServicosCognitivos/blob/main/exercicioOpenWeather.ipynb\" target=\"_parent\"><img src=\"https://colab.research.google.com/assets/colab-badge.svg\" alt=\"Open In Colab\"/></a>"
      ]
    },
    {
      "cell_type": "code",
      "execution_count": null,
      "metadata": {
        "colab": {
          "base_uri": "https://localhost:8080/"
        },
        "id": "RmQcOE8wyciX",
        "outputId": "b514255d-cc95-424a-d997-4b3d875ef6d5"
      },
      "outputs": [
        {
          "name": "stdout",
          "output_type": "stream",
          "text": [
            "Insira seu nome: Bruna Oliveira\n",
            "Insira seu rm: 99518\n"
          ]
        }
      ],
      "source": [
        "nome = input('Insira seu nome: ')\n",
        "rm = input('Insira seu rm: ')"
      ]
    },
    {
      "cell_type": "code",
      "source": [
        "import requests"
      ],
      "metadata": {
        "id": "vNPlt0EW1A4h"
      },
      "execution_count": null,
      "outputs": []
    },
    {
      "cell_type": "code",
      "source": [
        "API_KEY = \"60068ee0c4277d4f8ba547e6c4d169a1\"\n",
        "cidade = \"Barueri\"\n",
        "endpoint = f\"https://api.openweathermap.org/data/2.5/weather?lat=-23.505647338983128&lon=-46.88253216227875&appid=60068ee0c4277d4f8ba547e6c4d169a1\"\n",
        "\n",
        "requisicao = requests.get(\"https://api.openweathermap.org/data/2.5/weather?lat=-23.505647338983128&lon=-46.88253216227875&appid=60068ee0c4277d4f8ba547e6c4d169a1\")\n",
        "resposta = requisicao.json()\n",
        "print(resposta)"
      ],
      "metadata": {
        "colab": {
          "base_uri": "https://localhost:8080/"
        },
        "id": "8vHTHWwX1BkM",
        "outputId": "6c6a90a0-563b-48fd-8aec-e8bf821876c0"
      },
      "execution_count": null,
      "outputs": [
        {
          "output_type": "stream",
          "name": "stdout",
          "text": [
            "{'coord': {'lon': -46.8825, 'lat': -23.5056}, 'weather': [{'id': 803, 'main': 'Clouds', 'description': 'broken clouds', 'icon': '04d'}], 'base': 'stations', 'main': {'temp': 300.85, 'feels_like': 305.66, 'temp_min': 298.01, 'temp_max': 302.21, 'pressure': 1017, 'humidity': 88, 'sea_level': 1017, 'grnd_level': 932}, 'visibility': 10000, 'wind': {'speed': 2.41, 'deg': 294, 'gust': 3.2}, 'clouds': {'all': 53}, 'dt': 1679665241, 'sys': {'type': 2, 'id': 2041565, 'country': 'BR', 'sunrise': 1679649153, 'sunset': 1679692506}, 'timezone': -10800, 'id': 3470353, 'name': 'Barueri', 'cod': 200}\n"
          ]
        }
      ]
    },
    {
      "cell_type": "code",
      "source": [
        "desc = resposta['weather'][0]['description']\n",
        "temp = resposta['main']['temp']\n",
        "\n",
        "print(desc, temp)"
      ],
      "metadata": {
        "colab": {
          "base_uri": "https://localhost:8080/"
        },
        "id": "9fTEUcgM1BVm",
        "outputId": "14748536-99a7-49db-ef6c-74976846a6f9"
      },
      "execution_count": null,
      "outputs": [
        {
          "output_type": "stream",
          "name": "stdout",
          "text": [
            "broken clouds 300.85\n"
          ]
        }
      ]
    },
    {
      "cell_type": "code",
      "source": [
        "temp = float(resposta['main']['temp'])\n",
        "temp_c = temp - 273.15\n",
        "\n",
        "print(temp_c)"
      ],
      "metadata": {
        "colab": {
          "base_uri": "https://localhost:8080/"
        },
        "id": "4xnmuWhC1jYZ",
        "outputId": "781602b1-113d-4755-efa9-d5ebeafcc2f9"
      },
      "execution_count": null,
      "outputs": [
        {
          "output_type": "stream",
          "name": "stdout",
          "text": [
            "27.700000000000045\n"
          ]
        }
      ]
    }
  ]
}